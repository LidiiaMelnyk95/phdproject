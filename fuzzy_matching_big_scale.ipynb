{
  "nbformat": 4,
  "nbformat_minor": 0,
  "metadata": {
    "colab": {
      "name": "fuzzy matching big scale.ipynb",
      "provenance": [],
      "authorship_tag": "ABX9TyPfohSbf7xVGk9Plc18jKCp",
      "include_colab_link": true
    },
    "kernelspec": {
      "name": "python3",
      "display_name": "Python 3"
    },
    "language_info": {
      "name": "python"
    }
  },
  "cells": [
    {
      "cell_type": "markdown",
      "metadata": {
        "id": "view-in-github",
        "colab_type": "text"
      },
      "source": [
        "<a href=\"https://colab.research.google.com/github/LidiiaMelnyk95/phdproject/blob/main/fuzzy_matching_big_scale.ipynb\" target=\"_parent\"><img src=\"https://colab.research.google.com/assets/colab-badge.svg\" alt=\"Open In Colab\"/></a>"
      ]
    },
    {
      "cell_type": "code",
      "execution_count": 5,
      "metadata": {
        "id": "KznkEOAwtj15"
      },
      "outputs": [],
      "source": [
        "import pandas as pd\n",
        "import sklearn\n",
        "from sklearn.feature_extraction.text import TfidfVectorizer"
      ]
    },
    {
      "cell_type": "code",
      "source": [
        "import re"
      ],
      "metadata": {
        "id": "DPIAryx_vjM6"
      },
      "execution_count": 46,
      "outputs": []
    },
    {
      "cell_type": "markdown",
      "source": [
        "###Writing an ngram function###"
      ],
      "metadata": {
        "id": "YfdXHF9CSM7j"
      }
    },
    {
      "cell_type": "code",
      "source": [
        "def ngrams(string, n = 3):\n",
        "  string = string.encode('ascii', errors = 'ignore' ).decode()\n",
        "  chars_to_remove = ['(', ')', '[', ']', '{', '}', '.', ';', ',']\n",
        "  rx = '[' + re.escape(' '.join(chars_to_remove)) + ']'\n",
        "  string = re.sub(rx, '', string)\n",
        "  string = string.replace ('&', 'and')\n",
        "  string = string.replace('-', ' ')\n",
        "  string = string.replace(',', ' ')\n",
        "  string = re.sub(' +',' ', string).strip() #remove extra white spaces\n",
        "  string = ' ' + string + ' ' #pad names for ngrams\n",
        "  ngrams = zip(*[string[i:] for i in range(n)])\n",
        "  return [' '.join(ngram) for ngram in ngrams]\n",
        "\n"
      ],
      "metadata": {
        "id": "B1onUZrbuRok"
      },
      "execution_count": 71,
      "outputs": []
    },
    {
      "cell_type": "code",
      "source": [
        "text = ' ich finde das einfach blöd und uninteressant'"
      ],
      "metadata": {
        "id": "WAGMyq1kwEKS"
      },
      "execution_count": 72,
      "outputs": []
    },
    {
      "cell_type": "code",
      "source": [
        "xls = pd.ExcelFile('/content/Non_binary_small.xlsx')\n",
        "\n",
        "sheet_to_df_map = {}\n",
        "i = 0\n",
        "for sheet_name in xls.sheet_names:\n",
        "    sheet_to_df_map[sheet_name] = xls.parse(sheet_name)\n",
        "    \n"
      ],
      "metadata": {
        "id": "JN1C1ERmsljI"
      },
      "execution_count": 74,
      "outputs": []
    },
    {
      "cell_type": "code",
      "source": [
        "for key in sheet_to_df_map.keys():\n",
        "  for i,row in sheet_to_df_map[key].iterrows():\n",
        "    for m in str(row['Reply']).split('\\n'):\n",
        "      if m == 'nan':\n",
        "        pass\n",
        "      elif m != 'nan':\n",
        "        sheet_to_df_map[key].loc[i, 'Comment'] = m"
      ],
      "metadata": {
        "id": "QKwh115cvOXc"
      },
      "execution_count": 75,
      "outputs": []
    },
    {
      "cell_type": "code",
      "source": [
        "df = pd.DataFrame()"
      ],
      "metadata": {
        "id": "nNUc7dstuHVE"
      },
      "execution_count": 76,
      "outputs": []
    },
    {
      "cell_type": "code",
      "source": [
        "for key in sheet_to_df_map.keys():\n",
        "  df = df.append(sheet_to_df_map[key])"
      ],
      "metadata": {
        "id": "VFpmAeeyuO_V"
      },
      "execution_count": 77,
      "outputs": []
    },
    {
      "cell_type": "code",
      "source": [
        "print(df['Comment'].head(10))"
      ],
      "metadata": {
        "colab": {
          "base_uri": "https://localhost:8080/"
        },
        "id": "DjgEUk21u5if",
        "outputId": "714b2aaa-f34c-4def-d680-81a49bb8b90e"
      },
      "execution_count": 78,
      "outputs": [
        {
          "output_type": "stream",
          "name": "stdout",
          "text": [
            "0    Hey ihr Lieben! <br>Als Info vorab: Ich habe m...\n",
            "1                                  Also dey, xier, ...\n",
            "2    @Maus201 Solch &quot;idiologischen Sprachhardc...\n",
            "3    @piiinkDeluxe Was konkret hat das mit dem Them...\n",
            "4    @Kjartan Ragnarson Weil ich seine Existenz nic...\n",
            "5    @Maus201 Fakt ist: Marcel-Jana möchte sich nic...\n",
            "6    @Timm Giesbers Natürlich. Darum ging es aber g...\n",
            "7    Bis zu dem wideo dachte ich es wäre gar nicht ...\n",
            "8    Biologisch gibt es nur zwei Geschlechter und i...\n",
            "9    In welcher Situation, kann mensch nicht auf Pr...\n",
            "Name: Comment, dtype: object\n"
          ]
        }
      ]
    },
    {
      "cell_type": "code",
      "source": [
        "ngrams_list = [ ]\n",
        "text_list = []"
      ],
      "metadata": {
        "id": "yFWU6TMitwlJ"
      },
      "execution_count": 79,
      "outputs": []
    },
    {
      "cell_type": "code",
      "source": [
        "for i, row in df.iterrows():\n",
        "  for line in str(row['Comment']).split('/n'):\n",
        "    ngrams_list.append(ngrams(line)) #create n_grams list just in case and to check how the function works"
      ],
      "metadata": {
        "id": "GU6Q67bEsmq4"
      },
      "execution_count": 80,
      "outputs": []
    },
    {
      "cell_type": "markdown",
      "source": [
        "###Applying the function and creating tf idf matrix###"
      ],
      "metadata": {
        "id": "xQkp4b8vSGUF"
      }
    },
    {
      "cell_type": "code",
      "source": [
        "values = [ ] #get raw text from string data in the comments\n",
        "for i, row in df.iterrows():\n",
        "  for line in str(row['Comment']).split('/n'):\n",
        "    values.append(line)\n",
        "print(values[:10])"
      ],
      "metadata": {
        "colab": {
          "base_uri": "https://localhost:8080/"
        },
        "id": "dcWB0i_lxPT3",
        "outputId": "abfa9d0f-655d-44b6-8f25-f8efc05b318f"
      },
      "execution_count": 107,
      "outputs": [
        {
          "output_type": "stream",
          "name": "stdout",
          "text": [
            "['Hey ihr Lieben!\\xa0<br>Als Info vorab: Ich habe mich mit Marcel-Jana darauf verständigt, dass wenn es nicht anders möglich ist, ich das Pronomen &quot;er&quot; für den Film nutzen kann - auch weil unsere Sprache noch keine pronomenlose Form entwickelt hat. <br><br>Für mich bleibt bis heute vollkommen unverständlich, wieso es Menschen wie Marcel-Jana so schwer gemacht wird, ihre eigene Identität auch selbst zu bestimmen. Gutachten, Anträge, monatelanges Warten und hohe Kosten - nur damit sie offiziell sein können, wer sie sind. Und dabei stelle ich mir die Frage: Wer sonst soll eigentlich beurteilen können, wie man sich selbst fühlt, wie man sich sieht? \\u2028Ich würde mir wünschen, dass die Verfahren einfacher werden - auch damit sie die Würde von trans- und nicht-binären Personen besser achten. \\u2028<br>Was denkt ihr darüber?', 'Also dey, xier, ...', '@Maus201 Solch &quot;idiologischen Sprachhardcoretypen&quot; die ggf. daran glauben das Wirklichkeit durch Sprache/Sprechakt konstruiert wird darfst du nicht mit grammatikalischer Logik kommen die hunderte/tausende von Jahren zivilisatorisch &quot;normalen&quot; Zusammenlebens  entsprungen sind!', '@piiinkDeluxe Was konkret hat das mit dem Thema zu tun? Marcel-Jana plant nicht an Olympia teilzunehmen.', '@Kjartan Ragnarson Weil ich seine Existenz nicht in Frage stelle? Das ist nicht kritisch, sondern menschenfeindlich.', '@Maus201 Fakt ist: Marcel-Jana möchte sich nicht mit &quot;es&quot; identifizieren und das kann man doch einfach akzeptieren?', '@Timm Giesbers Natürlich. Darum ging es aber grade gar nicht. Sondern um die Aussage, dass mit &quot;es&quot; nur Sachen bezeichnet werden. Was halt nicht stimmt. Ganz unabhängig davon, ob Marcel-Jana jetzt damit angesprochen werden will oder nicht.', 'Bis zu dem wideo dachte ich es wäre gar nicht möglich für transmenschen ein X in den Ausweis zu bekommen. Ich bin gerade sehr froh das es überhaupt die möglichkeit giebt, auch wenn der weg dahin so krass anstrengend und entwürdigend ist. Danke für deine lange Recherche und dieses Reportage. Das giebt mir echt Hoffnung.', 'Biologisch gibt es nur zwei Geschlechter und intersexuelle Menschen. Das ist ein biologischer Fakt, den man nicht dekonstruieren kann und genau darauf bezieht sich in der Regel auch die Angabe bezüglich des Geschlechts im Ausweis. Tatsächlich ist das beispielsweise in der Medizin sogar sehr wichtig zu wissen, um welches biologische Geschlecht es sich handelt. Das Geschlecht kann man sich demnach nicht aussuchen, man hat es, genau wie Körpergröße und Augenfarbe, einfach zu akzeptieren.<br>Marcel Jana kann leben wie er möchte, aber dass er verlangt, in amtlichen Dokumenten geschlechtslos zu sein, obwohl er offensichtlich männlich ist, finde ich übertrieben und falsch. Dabei ist es egal, wie er sich fühlt. Wenn ich mich nicht wie 1,88 m fühle, obwohl ich es bin, kann ich diese Angabe auch nicht im Ausweis streichen lassen. Das habe ich auch an mir zu akzeptieren.<br><br>...und die Sache mit den Pronomen finde ich auch befremdlich. Ich spreche niemanden mit ,,es&#39;&#39; an.', 'In welcher Situation, kann mensch nicht auf Pronomen verzichten? Vorname geht immer.']\n"
          ]
        }
      ]
    },
    {
      "cell_type": "code",
      "source": [
        "vectorizer = TfidfVectorizer(min_df = 1, analyzer = ngrams)\n",
        "tf_idf_matrix = vectorizer.fit_transform(values)"
      ],
      "metadata": {
        "id": "jytI493pQx3G"
      },
      "execution_count": 108,
      "outputs": []
    },
    {
      "cell_type": "markdown",
      "source": [
        "###Finding close matches with cosine similarity###"
      ],
      "metadata": {
        "id": "DoSLl5WsSAxC"
      }
    },
    {
      "cell_type": "code",
      "source": [
        "import numpy as np\n",
        "from scipy.sparse import csr_matrix\n",
        "!pip install sparse_dot_topn\n",
        "import sparse_dot_topn.sparse_dot_topn as ct"
      ],
      "metadata": {
        "colab": {
          "base_uri": "https://localhost:8080/"
        },
        "id": "lqPFI39fR-pw",
        "outputId": "e3bde656-2ab8-41d7-bf0f-2cb7601d8570"
      },
      "execution_count": 109,
      "outputs": [
        {
          "output_type": "stream",
          "name": "stdout",
          "text": [
            "Collecting sparse_dot_topn\n",
            "  Downloading sparse_dot_topn-0.3.1.tar.gz (17 kB)\n",
            "  Installing build dependencies ... \u001b[?25l\u001b[?25hdone\n",
            "  Getting requirements to build wheel ... \u001b[?25l\u001b[?25hdone\n",
            "  Installing backend dependencies ... \u001b[?25l\u001b[?25hdone\n",
            "    Preparing wheel metadata ... \u001b[?25l\u001b[?25hdone\n",
            "Requirement already satisfied: setuptools>=42 in /usr/local/lib/python3.7/dist-packages (from sparse_dot_topn) (57.4.0)\n",
            "Requirement already satisfied: numpy>=1.16.6 in /usr/local/lib/python3.7/dist-packages (from sparse_dot_topn) (1.21.5)\n",
            "Requirement already satisfied: scipy>=1.2.3 in /usr/local/lib/python3.7/dist-packages (from sparse_dot_topn) (1.4.1)\n",
            "Requirement already satisfied: cython>=0.29.15 in /usr/local/lib/python3.7/dist-packages (from sparse_dot_topn) (0.29.28)\n",
            "Building wheels for collected packages: sparse-dot-topn\n",
            "  Building wheel for sparse-dot-topn (PEP 517) ... \u001b[?25l\u001b[?25hdone\n",
            "  Created wheel for sparse-dot-topn: filename=sparse_dot_topn-0.3.1-cp37-cp37m-linux_x86_64.whl size=1582080 sha256=7143c57fd2190c339c6506b08f7aa3ced1205f24c896186802bffe4b31ba6058\n",
            "  Stored in directory: /root/.cache/pip/wheels/3b/3e/02/4ee8cb28ed8b608d530bc43402518a895db8ce89aff8ca4e1f\n",
            "Successfully built sparse-dot-topn\n",
            "Installing collected packages: sparse-dot-topn\n",
            "Successfully installed sparse-dot-topn-0.3.1\n"
          ]
        }
      ]
    },
    {
      "cell_type": "code",
      "source": [
        "def cossim_top(A,B, ntop, lower_bound = 0):\n",
        "  #transform A and B to csr matrix\n",
        "  # in case they are already in format acceptable for csr, there will be no overhead\n",
        "  A = A.tocsr()\n",
        "  B = B.tocsr()\n",
        "  M, _ = A.shape\n",
        "  _, N = B.shape\n",
        "\n",
        "  idx_dtype = np.int32\n",
        "  nnz_max = M * ntop\n",
        "  indptr = np.zeros(M+1, dtype = idx_dtype) #row indices\n",
        "  indices = np.zeros(nnz_max, dtype=idx_dtype) #column indices\n",
        "  data = np.zeros(nnz_max, dtype=A.dtype)\n",
        "\n",
        "  ct.sparse_dot_topn(M, N, np.asarray(A.indptr, dtype=idx_dtype),\n",
        "        np.asarray(A.indices, dtype=idx_dtype),\n",
        "        A.data,\n",
        "        np.asarray(B.indptr, dtype=idx_dtype),\n",
        "        np.asarray(B.indices, dtype=idx_dtype),\n",
        "        B.data,\n",
        "        ntop,\n",
        "        lower_bound,\n",
        "        indptr, indices, data)\n",
        "  \n",
        "  return csr_matrix((data,indices,indptr),shape=(M,N))"
      ],
      "metadata": {
        "id": "AixW6APSXlHE"
      },
      "execution_count": 113,
      "outputs": []
    },
    {
      "cell_type": "markdown",
      "source": [
        "###Check suggested performance speed between ngram based sparse matrix matching and fuzzy wuzzy library###"
      ],
      "metadata": {
        "id": "fnqKniED0O9P"
      }
    },
    {
      "cell_type": "code",
      "source": [
        "!pip install fuzzywuzzy"
      ],
      "metadata": {
        "colab": {
          "base_uri": "https://localhost:8080/"
        },
        "id": "C0XNBPJgqAjb",
        "outputId": "1f1a5d08-176b-41ec-ff2d-712b7a8dbd43"
      },
      "execution_count": null,
      "outputs": [
        {
          "output_type": "stream",
          "name": "stdout",
          "text": [
            "Collecting fuzzywuzzy\n",
            "  Downloading fuzzywuzzy-0.18.0-py2.py3-none-any.whl (18 kB)\n",
            "Installing collected packages: fuzzywuzzy\n",
            "Successfully installed fuzzywuzzy-0.18.0\n"
          ]
        }
      ]
    },
    {
      "cell_type": "code",
      "source": [
        "from fuzzywuzzy import fuzz\n",
        "from fuzzywuzzy import process\n",
        "import time"
      ],
      "metadata": {
        "id": "pgBsQzUJqFkw"
      },
      "execution_count": 100,
      "outputs": []
    },
    {
      "cell_type": "code",
      "source": [
        "print(values)"
      ],
      "metadata": {
        "colab": {
          "base_uri": "https://localhost:8080/"
        },
        "id": "YkFWEOcxzA96",
        "outputId": "4793b596-f457-433d-cee3-a18e3d7575a5"
      },
      "execution_count": 104,
      "outputs": [
        {
          "output_type": "stream",
          "name": "stdout",
          "text": [
            "[\"['Hey ihr Lieben!\\\\xa0<br>Als Info vorab: Ich habe mich mit Marcel-Jana darauf verständigt, dass wenn es nicht anders möglich ist, ich das Pronomen &quot;er&quot; für den Film nutzen kann - auch weil unsere Sprache noch keine pronomenlose Form entwickelt hat. <br><br>Für mich bleibt bis heute vollkommen unverständlich, wieso es Menschen wie Marcel-Jana so schwer gemacht wird, ihre eigene Identität auch selbst zu bestimmen. Gutachten, Anträge, monatelanges Warten und hohe Kosten - nur damit sie offiziell sein können, wer sie sind. Und dabei stelle ich mir die Frage: Wer sonst soll eigentlich beurteilen können, wie man sich selbst fühlt, wie man sich sieht? \\\\u2028Ich würde mir wünschen, dass die Verfahren einfacher werden - auch damit sie die Würde von trans- und nicht-binären Personen besser achten. \\\\u2028<br>Was denkt ihr darüber?'\\n 'Also dey, xier, ...'\\n '@Maus201 Solch &quot;idiologischen Sprachhardcoretypen&quot; die ggf. daran glauben das Wirklichkeit durch Sprache/Sprechakt konstruiert wird darfst du nicht mit grammatikalischer Logik kommen die hunderte/tausende von Jahren zivilisatorisch &quot;normalen&quot; Zusammenlebens  entsprungen sind!'\\n ...\\n 'wie diese dauergrinsende coleslaw &quot;&quot;&quot;&quot;&quot;journalistin&quot;&quot;&quot;&quot;&quot; einfach nur daneben sitzt alles abnickt und nicht einmal  kritisch nachfragt<br><br>und dafür werden gebührengelder verschwendet UNFASSBAR'\\n '1👌😂' '😇']\"]\n"
          ]
        }
      ]
    },
    {
      "cell_type": "code",
      "source": [
        "t1 = time.time()\n",
        "print(process.extractOne('trans', values)) \n",
        "t = time.time()-t1\n",
        "print(\"SELFTIMED:\", t)\n",
        "print(\"Estimated hours to complete for full dataset:\", (t*len(org_names))/60/60)\n"
      ],
      "metadata": {
        "id": "yMhvX47tqV0d",
        "colab": {
          "base_uri": "https://localhost:8080/"
        },
        "outputId": "fcd56c7b-ef91-4dfb-bff8-3063fe5b2b45"
      },
      "execution_count": 110,
      "outputs": [
        {
          "output_type": "stream",
          "name": "stdout",
          "text": [
            "('Transformer', 90)\n",
            "SELFTIMED: 5.074434518814087\n",
            "Estimated hours to complete for full dataset: 7.166229192680783\n"
          ]
        }
      ]
    },
    {
      "cell_type": "code",
      "source": [
        "t1 = time.time()\n",
        "matches = cossim_top(tf_idf_matrix, tf_idf_matrix.transpose(), 10, 0.85)\n",
        "t = time.time()-t1\n",
        "print(\"SELFTIMED:\", t)"
      ],
      "metadata": {
        "colab": {
          "base_uri": "https://localhost:8080/"
        },
        "id": "z-18t58qz1Tt",
        "outputId": "b21cb7d2-067a-4e4d-bf63-dcf5492c18c7"
      },
      "execution_count": 115,
      "outputs": [
        {
          "output_type": "stream",
          "name": "stdout",
          "text": [
            "SELFTIMED: 5.7840211391448975\n",
            "  (0, 0)\t1.0000000000000007\n",
            "  (1, 1)\t1.0\n",
            "  (2, 2)\t0.9999999999999991\n",
            "  (3, 3)\t0.9999999999999996\n",
            "  (4, 4)\t0.9999999999999997\n",
            "  (5, 5)\t0.9999999999999999\n",
            "  (6, 6)\t0.9999999999999998\n",
            "  (7, 7)\t0.9999999999999997\n",
            "  (8, 8)\t1.0000000000000002\n",
            "  (9, 9)\t1.0000000000000007\n",
            "  (10, 10)\t0.9999999999999986\n",
            "  (11, 11)\t0.9999999999999994\n",
            "  (12, 12)\t1.0000000000000009\n",
            "  (13, 13)\t1.0000000000000004\n",
            "  (14, 14)\t1.0\n",
            "  (15, 15)\t0.9999999999999999\n",
            "  (16, 16)\t1.0\n",
            "  (17, 17)\t1.0000000000000009\n",
            "  (18, 18)\t1.000000000000001\n",
            "  (19, 19)\t0.9999999999999996\n",
            "  (20, 20)\t0.9999999999999999\n",
            "  (21, 21)\t0.9999999999999993\n",
            "  (22, 22)\t1.0\n",
            "  (23, 23)\t1.0\n",
            "  (24, 24)\t0.9999999999999998\n",
            "  :\t:\n",
            "  (5175, 5175)\t1.0000000000000004\n",
            "  (5176, 5176)\t1.0000000000000002\n",
            "  (5177, 5177)\t0.9999999999999988\n",
            "  (5178, 5178)\t1.0000000000000002\n",
            "  (5179, 5179)\t0.9999999999999997\n",
            "  (5180, 5180)\t0.9999999999999998\n",
            "  (5181, 5181)\t0.9999999999999998\n",
            "  (5182, 5182)\t0.9999999999999996\n",
            "  (5183, 5183)\t0.9999999999999991\n",
            "  (5184, 5184)\t0.9999999999999997\n",
            "  (5185, 5185)\t1.0\n",
            "  (5186, 5186)\t0.9999999999999994\n",
            "  (5187, 5187)\t1.0000000000000002\n",
            "  (5188, 5188)\t0.9999999999999989\n",
            "  (5189, 5189)\t1.0000000000000002\n",
            "  (5190, 5190)\t0.9999999999999996\n",
            "  (5191, 5191)\t1.0\n",
            "  (5192, 5192)\t1.0000000000000007\n",
            "  (5193, 5193)\t0.9999999999999999\n",
            "  (5194, 5194)\t0.9999999999999989\n",
            "  (5195, 5195)\t1.0\n",
            "  (5196, 5196)\t0.9999999999999996\n",
            "  (5196, 5153)\t0.9999999999999996\n",
            "  (5196, 4573)\t0.9999999999999996\n",
            "  (5197, 5197)\t1.0\n"
          ]
        }
      ]
    }
  ]
}