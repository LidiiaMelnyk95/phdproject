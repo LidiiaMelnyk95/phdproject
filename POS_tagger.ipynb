{
  "cells": [
    {
      "cell_type": "markdown",
      "metadata": {
        "id": "view-in-github",
        "colab_type": "text"
      },
      "source": [
        "<a href=\"https://colab.research.google.com/github/LidiiaMelnyk95/phdproject/blob/master/POS_tagger.ipynb\" target=\"_parent\"><img src=\"https://colab.research.google.com/assets/colab-badge.svg\" alt=\"Open In Colab\"/></a>"
      ]
    },
    {
      "cell_type": "code",
      "execution_count": null,
      "metadata": {
        "id": "lmZj3XGfWtya"
      },
      "outputs": [],
      "source": [
        "!pip install contextualSpellCheck"
      ]
    },
    {
      "cell_type": "code",
      "execution_count": null,
      "metadata": {
        "id": "30H0gJ-TSgRJ"
      },
      "outputs": [],
      "source": [
        "import spacy\n",
        "import contextualSpellCheck"
      ]
    },
    {
      "cell_type": "code",
      "execution_count": null,
      "metadata": {
        "id": "6sVa3IlBVOQc"
      },
      "outputs": [],
      "source": [
        "\n",
        "!python -m spacy download de_core_news_sm\n"
      ]
    },
    {
      "cell_type": "code",
      "execution_count": null,
      "metadata": {
        "id": "ugsi9lfEZDHH"
      },
      "outputs": [],
      "source": [
        "!spacy download de_core_news_sm"
      ]
    },
    {
      "cell_type": "code",
      "execution_count": null,
      "metadata": {
        "id": "JP7l66wSZGhr"
      },
      "outputs": [],
      "source": [
        "import de_core_news_sm\n",
        "nlp_de = de_core_news_sm.load()"
      ]
    },
    {
      "cell_type": "code",
      "execution_count": null,
      "metadata": {
        "id": "Pw3YPLdupmQ_"
      },
      "outputs": [],
      "source": [
        "import pandas as pd"
      ]
    },
    {
      "cell_type": "code",
      "execution_count": null,
      "metadata": {
        "id": "8xWx2gFKAYVb"
      },
      "outputs": [],
      "source": [
        "xls = pd.ExcelFile('/content/Non Binary.xlsx')\n"
      ]
    },
    {
      "cell_type": "code",
      "execution_count": null,
      "metadata": {
        "id": "QudN_7_1pJEH"
      },
      "outputs": [],
      "source": [
        "sheet_to_df_map = {}\n",
        "i = 0\n",
        "for sheet_name in xls.sheet_names:\n",
        "    sheet_to_df_map[sheet_name] = xls.parse(sheet_name)"
      ]
    },
    {
      "cell_type": "code",
      "execution_count": null,
      "metadata": {
        "id": "b0A10kJ9pJr0"
      },
      "outputs": [],
      "source": [
        "for key in sheet_to_df_map.keys():\n",
        "  try:\n",
        "    for i,row in sheet_to_df_map[key].iterrows():\n",
        "      for m in str(row['Reply']).split('\\n'):\n",
        "        if m == 'nan':\n",
        "          pass\n",
        "        elif m != 'nan':\n",
        "          sheet_to_df_map[key].at[i, 'Comment'] = m\n",
        "  except KeyError:\n",
        "    pass"
      ]
    },
    {
      "cell_type": "code",
      "execution_count": null,
      "metadata": {
        "id": "87D3gCeoqgfr"
      },
      "outputs": [],
      "source": [
        "import string"
      ]
    },
    {
      "cell_type": "code",
      "execution_count": null,
      "metadata": {
        "id": "JF318TlvwV3e"
      },
      "outputs": [],
      "source": [
        "def lowercase_sentence_beginning(key):\n",
        "    for i,row in sheet_to_df_map[key].iterrows():\n",
        "      doc = nlp_de(row['Comment'])\n",
        "      for sent in doc.sents:\n",
        "        for word in sent:\n",
        "          if word.pos_ != 'NOUN':\n",
        "            word = str(word)\n",
        "            sent = str(sent).replace(word, word.lower())\n",
        "          elif word.pos_ == 'NOUN':\n",
        "            word = str(word)\n",
        "            sent = str(sent).replace(word, word.capitalize())\n"
      ]
    },
    {
      "cell_type": "code",
      "execution_count": null,
      "metadata": {
        "colab": {
          "background_save": true,
          "base_uri": "https://localhost:8080/"
        },
        "id": "FZm5TGiaxHhc",
        "outputId": "2f3a009f-3997-44de-e1f5-1379c6e4f213"
      },
      "outputs": [
        {
          "name": "stdout",
          "output_type": "stream",
          "text": [
            "Лист1\n"
          ]
        }
      ],
      "source": [
        "for key in sheet_to_df_map.keys():\n",
        "  try:\n",
        "    lowercased = lowercase_sentence_beginning(key)\n",
        "    print(key)\n",
        "  except KeyError:\n",
        "    pass\n"
      ]
    },
    {
      "cell_type": "code",
      "execution_count": null,
      "metadata": {
        "id": "iW50Sjyq-25v"
      },
      "outputs": [],
      "source": [
        "def saver(dictionary):\n",
        "    for key, val in dictionary.items():\n",
        "        val.to_csv(\"data_{}.csv\".format(str(key)))"
      ]
    },
    {
      "cell_type": "code",
      "execution_count": null,
      "metadata": {
        "id": "D2a9E6WT-_W6"
      },
      "outputs": [],
      "source": [
        "to_file = saver(sheet_to_df_map)"
      ]
    }
  ],
  "metadata": {
    "colab": {
      "name": "POS tagger.ipynb",
      "provenance": [],
      "mount_file_id": "12GeaH6i3DeazefymUPn7u-pTqdxvfX01",
      "authorship_tag": "ABX9TyNrxXJL9NYncLJ/bM9TSAct",
      "include_colab_link": true
    },
    "kernelspec": {
      "display_name": "Python 3",
      "name": "python3"
    },
    "language_info": {
      "name": "python"
    }
  },
  "nbformat": 4,
  "nbformat_minor": 0
}